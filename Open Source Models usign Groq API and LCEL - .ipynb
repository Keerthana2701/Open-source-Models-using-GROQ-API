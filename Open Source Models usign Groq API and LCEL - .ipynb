{
 "cells": [
  {
   "cell_type": "code",
   "execution_count": 1,
   "id": "69d5aaa2",
   "metadata": {},
   "outputs": [],
   "source": [
    "#add opena key, langchain api key, groq api key to  .env file"
   ]
  },
  {
   "cell_type": "code",
   "execution_count": 2,
   "id": "b46e16aa",
   "metadata": {},
   "outputs": [],
   "source": [
    "with open('.env', 'r') as file:\n",
    "    content = file.read()\n",
    "\n",
    "##print(content)"
   ]
  },
  {
   "cell_type": "code",
   "execution_count": 3,
   "id": "50024ac0",
   "metadata": {},
   "outputs": [
    {
     "ename": "SyntaxError",
     "evalue": "invalid syntax (<ipython-input-3-1b1c0b11a512>, line 1)",
     "output_type": "error",
     "traceback": [
      "\u001b[1;36m  File \u001b[1;32m\"<ipython-input-3-1b1c0b11a512>\"\u001b[1;36m, line \u001b[1;32m1\u001b[0m\n\u001b[1;33m    new_line = \"\\nOPENAI_API_KEY=\".............\"\u001b[0m\n\u001b[1;37m                                  ^\u001b[0m\n\u001b[1;31mSyntaxError\u001b[0m\u001b[1;31m:\u001b[0m invalid syntax\n"
     ]
    }
   ],
   "source": [
    "new_line = \"\\nOPENAI_API_KEY=\".............\"\n",
    "# Append to the .env file\n",
    "with open('.env', 'a') as file:\n",
    "    file.write(new_line)"
   ]
  },
  {
   "cell_type": "code",
   "execution_count": null,
   "id": "7c3d121b",
   "metadata": {},
   "outputs": [],
   "source": [
    "new_line = \"\\nGROQ_API_KEY=gsk_.......................\"\n",
    "\n",
    "# Append to the .env file\n",
    "with open('.env', 'a') as file:\n",
    "    file.write(new_line)"
   ]
  },
  {
   "cell_type": "code",
   "execution_count": null,
   "id": "ba52cbeb",
   "metadata": {},
   "outputs": [],
   "source": [
    "### Open AI API Key and Open Source models--Llama3,Gemma2,mistral--Groq\n",
    "\n",
    "import os\n",
    "from dotenv import load_dotenv\n",
    "load_dotenv()\n",
    "\n",
    "import openai\n",
    "openai.api_key=os.getenv(\"OPENAI_API_KEY\")\n",
    "\n",
    "groq_api_key=os.getenv(\"GROQ_API_KEY\")\n",
    "#groq_api_key"
   ]
  },
  {
   "cell_type": "code",
   "execution_count": null,
   "id": "77ddb866",
   "metadata": {},
   "outputs": [],
   "source": [
    "pip install langchain-core==0.1.37 langchain==0.1.16 langchain-groq==0.0.2"
   ]
  },
  {
   "cell_type": "code",
   "execution_count": null,
   "id": "6774b02d",
   "metadata": {},
   "outputs": [],
   "source": [
    "from langchain_openai import ChatOpenAI\n",
    "from langchain_groq import ChatGroq\n",
    "model=ChatGroq(model=\"Gemma2-9b-It\",groq_api_key=groq_api_key)\n",
    "model"
   ]
  },
  {
   "cell_type": "code",
   "execution_count": null,
   "id": "01a102ee",
   "metadata": {},
   "outputs": [],
   "source": [
    "!pip install --upgrade langchain langchain-core"
   ]
  },
  {
   "cell_type": "code",
   "execution_count": null,
   "id": "a43e3397",
   "metadata": {},
   "outputs": [],
   "source": [
    "pip install langchain_groq"
   ]
  },
  {
   "cell_type": "code",
   "execution_count": null,
   "id": "93bd3a53",
   "metadata": {},
   "outputs": [],
   "source": [
    "pip install langchain_core    "
   ]
  },
  {
   "cell_type": "markdown",
   "id": "c12843b6",
   "metadata": {},
   "source": [
    "#### when we provide a instruction to LLM model, use  system message.\n",
    "#### what human will ask to LLM will be given as human message.pass list of messages to LLM model and invoke it."
   ]
  },
  {
   "cell_type": "code",
   "execution_count": null,
   "id": "9e5c00f1",
   "metadata": {},
   "outputs": [],
   "source": [
    "from langchain_core.messages import HumanMessage,SystemMessage\n",
    "\n",
    "messages=[\n",
    "    SystemMessage(content=\"Translate the following from English to tamil\"),\n",
    "    HumanMessage(content=\"Hello How are you?\")\n",
    "]\n",
    "\n",
    "result=model.invoke(messages)"
   ]
  },
  {
   "cell_type": "code",
   "execution_count": null,
   "id": "ff5240e4",
   "metadata": {},
   "outputs": [],
   "source": [
    "result"
   ]
  },
  {
   "cell_type": "markdown",
   "id": "ef86a0a8",
   "metadata": {},
   "source": [
    "#### to retrieve only response output, use string output parser"
   ]
  },
  {
   "cell_type": "code",
   "execution_count": null,
   "id": "fcec4492",
   "metadata": {},
   "outputs": [],
   "source": [
    "from langchain_core.output_parsers import StrOutputParser\n",
    "parser=StrOutputParser()\n",
    "parser.invoke(result)"
   ]
  },
  {
   "cell_type": "markdown",
   "id": "025bc28f",
   "metadata": {},
   "source": [
    "####  Using LCEL(lang chain expression language)- chain the components\n",
    "components - model, parser"
   ]
  },
  {
   "cell_type": "code",
   "execution_count": null,
   "id": "e23589d6",
   "metadata": {},
   "outputs": [],
   "source": [
    "### Using LCEL- chain the components\n",
    "chain=model|parser\n",
    "chain.invoke(messages)"
   ]
  },
  {
   "cell_type": "markdown",
   "id": "fb559cd2",
   "metadata": {},
   "source": [
    "#### using prompt template"
   ]
  },
  {
   "cell_type": "code",
   "execution_count": null,
   "id": "7b6d70e0",
   "metadata": {},
   "outputs": [],
   "source": [
    "### Prompt Templates\n",
    "from langchain_core.prompts import ChatPromptTemplate\n",
    "\n",
    "generic_template=\"Trnaslate the following into {language}:\"\n",
    "\n",
    "prompt=ChatPromptTemplate.from_messages(\n",
    "    [(\"system\",generic_template),(\"user\",\"{text}\")]\n",
    ")"
   ]
  },
  {
   "cell_type": "code",
   "execution_count": null,
   "id": "cf9334a9",
   "metadata": {},
   "outputs": [],
   "source": [
    "result=prompt.invoke({\"language\":\"tamil\",\"text\":\"Hello\"})"
   ]
  },
  {
   "cell_type": "code",
   "execution_count": null,
   "id": "8e5ec45e",
   "metadata": {},
   "outputs": [],
   "source": [
    "result.to_messages()"
   ]
  },
  {
   "cell_type": "code",
   "execution_count": null,
   "id": "47881867",
   "metadata": {},
   "outputs": [],
   "source": [
    "##Chaining together components with LCEL\n",
    "chain=prompt|model|parser\n",
    "chain.invoke({\"language\":\"tamil\",\"text\":\"Hello\"})"
   ]
  }
 ],
 "metadata": {
  "kernelspec": {
   "display_name": "Python 3",
   "language": "python",
   "name": "python3"
  },
  "language_info": {
   "codemirror_mode": {
    "name": "ipython",
    "version": 3
   },
   "file_extension": ".py",
   "mimetype": "text/x-python",
   "name": "python",
   "nbconvert_exporter": "python",
   "pygments_lexer": "ipython3",
   "version": "3.8.8"
  }
 },
 "nbformat": 4,
 "nbformat_minor": 5
}
